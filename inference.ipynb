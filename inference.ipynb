{
 "cells": [
  {
   "cell_type": "code",
   "execution_count": 1,
   "id": "d07d1a89-78b3-49f3-a6d7-6b6c9a36f830",
   "metadata": {},
   "outputs": [],
   "source": [
    "import os\n",
    "from dataclasses import dataclass, field\n",
    "from typing import Optional\n",
    "\n",
    "import torch\n",
    "from datasets import load_dataset\n",
    "from peft import AutoPeftModelForCausalLM, LoraConfig\n",
    "from tqdm import tqdm\n",
    "from transformers import AutoModelForCausalLM, AutoTokenizer, BitsAndBytesConfig, HfArgumentParser, TrainingArguments\n",
    "\n",
    "from trl import SFTTrainer\n",
    "from trl.trainer import ConstantLengthDataset"
   ]
  },
  {
   "cell_type": "code",
   "execution_count": 3,
   "id": "8ab573a1-cdb9-4153-870f-d798fca93dc7",
   "metadata": {},
   "outputs": [
    {
     "data": {
      "application/vnd.jupyter.widget-view+json": {
       "model_id": "ea729f9ac3cb4f9fa6a79ce9525a7957",
       "version_major": 2,
       "version_minor": 0
      },
      "text/plain": [
       "VBox(children=(HTML(value='<center> <img\\nsrc=https://huggingface.co/front/assets/huggingface_logo-noborder.sv…"
      ]
     },
     "metadata": {},
     "output_type": "display_data"
    }
   ],
   "source": [
    "from huggingface_hub import notebook_login\n",
    "\n",
    "notebook_login()  # same as before"
   ]
  },
  {
   "cell_type": "code",
   "execution_count": 11,
   "id": "b2e9e2e3-8313-4cbc-9713-0d4cc5d1fc85",
   "metadata": {},
   "outputs": [],
   "source": [
    "# 0. imports\n",
    "import os\n",
    "from dataclasses import dataclass, field\n",
    "from typing import Dict, Optional\n",
    "\n",
    "import torch\n",
    "from datasets import Dataset, load_dataset\n",
    "from peft import AutoPeftModelForCausalLM, LoraConfig\n",
    "from transformers import AutoTokenizer, HfArgumentParser, TrainingArguments\n",
    "from transformers import GenerationConfig\n",
    "from trl import DPOTrainer"
   ]
  },
  {
   "cell_type": "code",
   "execution_count": null,
   "id": "fe58e8e3-263b-4f8d-be4a-2bb1ac418c4a",
   "metadata": {},
   "outputs": [],
   "source": []
  },
  {
   "cell_type": "code",
   "execution_count": 4,
   "id": "a5ed5893-8cfd-443d-8750-1ebc7690418b",
   "metadata": {},
   "outputs": [
    {
     "name": "stderr",
     "output_type": "stream",
     "text": [
      "/home/jovyan/.conda/envs/ppo/lib/python3.9/site-packages/datasets/load.py:2089: FutureWarning: 'use_auth_token' was deprecated in favor of 'token' in version 2.14.0 and will be removed in 3.0.0.\n",
      "You can remove this warning by passing 'token=True' instead.\n",
      "  warnings.warn(\n"
     ]
    }
   ],
   "source": [
    "from datasets import load_dataset\n",
    "\n",
    "#dataset = load_dataset(\"Dahoas/full-hh-rlhf\",split='test')\n",
    "dataset = load_dataset('json',data_files='dpo.jsonl',split = \"train\",use_auth_token=True)"
   ]
  },
  {
   "cell_type": "code",
   "execution_count": 5,
   "id": "5aafe93c-c14b-44d3-bb71-482613bd4701",
   "metadata": {},
   "outputs": [
    {
     "data": {
      "text/plain": [
       "Dataset({\n",
       "    features: ['prompt', 'chosen', 'rejected'],\n",
       "    num_rows: 231\n",
       "})"
      ]
     },
     "execution_count": 5,
     "metadata": {},
     "output_type": "execute_result"
    }
   ],
   "source": [
    "dataset"
   ]
  },
  {
   "cell_type": "code",
   "execution_count": 6,
   "id": "d2a80058-9530-4e74-94e5-b62023395442",
   "metadata": {},
   "outputs": [
    {
     "data": {
      "text/plain": [
       "\"The patient's diagnosis is chronic inflammatory demyelinating polyneuropathy (CIDP).\""
      ]
     },
     "execution_count": 6,
     "metadata": {},
     "output_type": "execute_result"
    }
   ],
   "source": [
    "dataset['chosen'][0]"
   ]
  },
  {
   "cell_type": "code",
   "execution_count": 7,
   "id": "90b10271-2014-4289-9d09-245dcc1920b5",
   "metadata": {},
   "outputs": [
    {
     "data": {
      "text/plain": [
       "'[INST]<<SYS>>\\n You are a helpful, respectful and honest assistant. Always answer as helpfully as possible using the \\ncontext text provided.\\nExtract the answer from the context and do not generate answer by your own.\\n\\n<</SYS>>\\n\\ngiven the following medical context and a list of diagnoses list, \\\\nmedical context:[\\'STONE ST, CHRISTIANSBURG VA-24073-5021 Home: 540-230-5881 Guarantor: Durham, Donna Insurance: Anthem Healthkeepers Medicare Advantage PCP: Charles Judy Appointment Facility: Blue Ridge Associates in Neurology 01/25/2023 Progress Notes: Jill B Cramer, MD Current Medications Reason for Appointment Taking 1.\\\\nNeeds in ASAP - f/u radiculopathy - lumbar region?, muscle spasms?\\\\nVitarrin C Tylenol History of Present Illness Biderberry Constitutional: Levothyroxine Sodium25 MOG\\\\nTablet 1 tablet in the Ms Durham is a 55 yo female who presents today for restablishing with Dr. morning on an empty stomach Orally Once a day traZODone HC 100 MG Tablet 1 tablet at beditime Cramer chronic inflammatory demyelinating polyneuritis.\\\\nOrally Once a day She was last seen by Dr. Quarles on 2/23/22 for her lumbar radiculopathy and Symbicort 160-4.5 MDG/ACT\\\\nAerosol 2 puffs was provided TPI.\\\\nInhalation\\', \\'FROM: Fax Blue Ridge Associates in Neurology TO: 8445128997 PAGE: 003 OF 003 Patient Name: Durham, Donna, DOB: 11/09/1967 Account No: 15025 no drug use M32.19 Allergies Bee Sting CIDP due to lupus.\\\\nHas been on Mg since 2014.\\\\nShe has increased symptoms of her Dilaudid neuropathy just before she is due for her next monthly infusion.\\\\nEMG confirmed CIDP CeleBREX done by previous neurologist.\\\\nTolerates treatments well.\\\\nMg medically necessary for Hydrocodone her autoimmune mediated neuropathy.\\\\nWill continue two days every 4 weeks to oxyCODONEHO maintain her function.\\\\nSulfa Antibiotics Hospitalization/Major Diagnostic Procedure Denies Past Hospitalization Review of Systems aROS generic: Joramusous 14 Systemreview completed see attached ROS sheet for details Reviewed Electronically signed by JILL CRAMER, MD on 01/25/2023 at 11:46 AM\\\\nEST Sign off status: Completed Blue Ridge Associates in Neurology 2955\\\\nMARKET ST STEB CHRISTIANSBURG A24073-6575 Tel: 540-381-6211 Fax: 540-645-6623 Progress Note: Jill B Cramer, MD 01/25/2023\\\\nNote generated by eClinicalWorks EMR/PM Software (www.CCliricalWorks. com)\\', \\'Not-Taking Diclofenac Sodium2.5% Cream 1 application AS Examination NEEDED Externally Four times a day General Examination: Medication List reviewed and reconciled with the Normal strength x4 patient DTRs 0 x4\\\\nMildly tremulous FMM, FTN, HTS.\\\\nPast Medical History COFD.\\\\nPhysical Examination Hypertension Records Reviewed Neuropathy.\\\\n01/18/2023 Lupus Clinic Note Impressions and Plan Surgical History - Impression: Donna Maria Durham has systematic lupus and has not needed ACL repair 2018 anything beyong hydroxycholoriquine and significant amount of time.\\\\nMother Dementia, heart disease ,hypertension Assessments Social History 1.\\\\nChronic inflammatory demyelinating polyneuritis - G61.81 Never smoker 2.\\\\nAutonomic neuropathy in diseases classified elsewhere - G99.0 very rare alcohol use, special celebrations 3 Systemic lunus ervthematosus with other oman involvement inspecified su type To: Subject: Re case# 92907723\\']\\\\nlist of diagnoses: 0. immune (or idiopathic) thrombocytopenic purpura (itp)  1. bullous skin/blistering disease 2. chronic lymphocytic leukemia (cll)  3. congenital agammaglobulinemia  4. common variable immunodeficiency (cvid)  5. wiskott-aldrich syndrome  6. x-linked agammaglobulinemia  7. severe combined immunodeficiency  8. non-familial hypogammaglobulinemia  9. bone marrow transplant  10. solid organ transplant  11. chronic inflammatory demyelinating polyneuropathy (cidp)  12. multifocal motor neuropathy  13. myasthenia gravis, severe refractory  14. eaton-lambert myasthenic syndrome  15. guillain-barre syndrome  16. severe refractory polymyositis  17. stiff-person syndrome  18. stiff-person syndrome  19. pemphigus vulgaris  20. pemphigus vulgaris  21. bullous pemphigoid  22. mucous membrane pemphigoid , cicatricial pemphigoid, benign mucous membrane pemphigoid  23. epidermolysis bullosa acquisita \\\\nplease analyze the provided medical context and extract the patient\\'s primary diagnosis. considering variations in spelling and abbreviations, match it to the closer entry in the diagnosis list. if not matched, return other.\" [/INST]'"
      ]
     },
     "execution_count": 7,
     "metadata": {},
     "output_type": "execute_result"
    }
   ],
   "source": [
    "prompt = dataset['prompt'][0]\n",
    "prompt\n"
   ]
  },
  {
   "cell_type": "code",
   "execution_count": null,
   "id": "c1f6bf2e-bb29-4d5f-8389-3d971ecb3a5a",
   "metadata": {},
   "outputs": [],
   "source": []
  },
  {
   "cell_type": "code",
   "execution_count": null,
   "id": "4801175d-f068-48dd-8087-f2ac1dd484a4",
   "metadata": {},
   "outputs": [],
   "source": []
  },
  {
   "cell_type": "markdown",
   "id": "76592c05-cda4-4ac5-ad08-d82ea9c30859",
   "metadata": {},
   "source": [
    "# SFT Model Inference"
   ]
  },
  {
   "cell_type": "code",
   "execution_count": 8,
   "id": "3f287d1c-7c6f-4cc2-9a7f-384cef693af0",
   "metadata": {},
   "outputs": [],
   "source": [
    "from peft import AutoPeftModelForCausalLM\n",
    "from transformers import GenerationConfig\n",
    "from transformers import AutoTokenizer\n",
    "import torch"
   ]
  },
  {
   "cell_type": "code",
   "execution_count": 9,
   "id": "d24c3474-6ea0-4796-8a49-387e0a555066",
   "metadata": {},
   "outputs": [
    {
     "data": {
      "application/vnd.jupyter.widget-view+json": {
       "model_id": "a3aa33791bdc4592998305431b52ca6f",
       "version_major": 2,
       "version_minor": 0
      },
      "text/plain": [
       "Loading checkpoint shards:   0%|          | 0/3 [00:00<?, ?it/s]"
      ]
     },
     "metadata": {},
     "output_type": "display_data"
    },
    {
     "name": "stderr",
     "output_type": "stream",
     "text": [
      "/home/jovyan/.conda/envs/ppo/lib/python3.9/site-packages/transformers/generation/configuration_utils.py:362: UserWarning: `do_sample` is set to `False`. However, `temperature` is set to `0.9` -- this flag is only used in sample-based generation modes. You should set `do_sample=True` or unset `temperature`. This was detected when initializing the generation config instance, which means the corresponding file may hold incorrect parameterization and should be fixed.\n",
      "  warnings.warn(\n",
      "/home/jovyan/.conda/envs/ppo/lib/python3.9/site-packages/transformers/generation/configuration_utils.py:367: UserWarning: `do_sample` is set to `False`. However, `top_p` is set to `0.6` -- this flag is only used in sample-based generation modes. You should set `do_sample=True` or unset `top_p`. This was detected when initializing the generation config instance, which means the corresponding file may hold incorrect parameterization and should be fixed.\n",
      "  warnings.warn(\n",
      "CUDA extension not installed.\n",
      "CUDA extension not installed.\n"
     ]
    }
   ],
   "source": [
    "\n",
    "model_path = '/home/jovyan/sai/sft_biomedgpt7b'\n",
    "\n",
    "tokenizer = AutoTokenizer.from_pretrained(model_path)\n",
    "\n",
    "\n",
    "model = AutoPeftModelForCausalLM.from_pretrained(\n",
    "    model_path,\n",
    "    low_cpu_mem_usage=True,\n",
    "    return_dict=True,\n",
    "    torch_dtype=torch.float16,\n",
    "    device_map=\"cuda\")\n",
    "\n",
    "generation_config = GenerationConfig(\n",
    "    do_sample=True,\n",
    "    top_k=1,\n",
    "    temperature=0.2,\n",
    "    max_new_tokens=256,\n",
    "    pad_token_id=tokenizer.eos_token_id\n",
    ")"
   ]
  },
  {
   "cell_type": "code",
   "execution_count": null,
   "id": "7dd652e4-f128-4eb2-8e02-8bb01778c295",
   "metadata": {},
   "outputs": [],
   "source": []
  },
  {
   "cell_type": "code",
   "execution_count": 10,
   "id": "69947fdc-017b-493a-8b64-15c6d9567200",
   "metadata": {},
   "outputs": [
    {
     "name": "stdout",
     "output_type": "stream",
     "text": [
      "[INST]<<SYS>>\n",
      " You are a helpful, respectful and honest assistant. Always answer as helpfully as possible using the \n",
      "context text provided.\n",
      "Extract the answer from the context and do not generate answer by your own.\n",
      "\n",
      "<</SYS>>\n",
      "\n",
      "given the following medical context and a list of diagnoses list, \\nmedical context:['STONE ST, CHRISTIANSBURG VA-24073-5021 Home: 540-230-5881 Guarantor: Durham, Donna Insurance: Anthem Healthkeepers Medicare Advantage PCP: Charles Judy Appointment Facility: Blue Ridge Associates in Neurology 01/25/2023 Progress Notes: Jill B Cramer, MD Current Medications Reason for Appointment Taking 1.\\nNeeds in ASAP - f/u radiculopathy - lumbar region?, muscle spasms?\\nVitarrin C Tylenol History of Present Illness Biderberry Constitutional: Levothyroxine Sodium25 MOG\\nTablet 1 tablet in the Ms Durham is a 55 yo female who presents today for restablishing with Dr. morning on an empty stomach Orally Once a day traZODone HC 100 MG Tablet 1 tablet at beditime Cramer chronic inflammatory demyelinating polyneuritis.\\nOrally Once a day She was last seen by Dr. Quarles on 2/23/22 for her lumbar radiculopathy and Symbicort 160-4.5 MDG/ACT\\nAerosol 2 puffs was provided TPI.\\nInhalation', 'FROM: Fax Blue Ridge Associates in Neurology TO: 8445128997 PAGE: 003 OF 003 Patient Name: Durham, Donna, DOB: 11/09/1967 Account No: 15025 no drug use M32.19 Allergies Bee Sting CIDP due to lupus.\\nHas been on Mg since 2014.\\nShe has increased symptoms of her Dilaudid neuropathy just before she is due for her next monthly infusion.\\nEMG confirmed CIDP CeleBREX done by previous neurologist.\\nTolerates treatments well.\\nMg medically necessary for Hydrocodone her autoimmune mediated neuropathy.\\nWill continue two days every 4 weeks to oxyCODONEHO maintain her function.\\nSulfa Antibiotics Hospitalization/Major Diagnostic Procedure Denies Past Hospitalization Review of Systems aROS generic: Joramusous 14 Systemreview completed see attached ROS sheet for details Reviewed Electronically signed by JILL CRAMER, MD on 01/25/2023 at 11:46 AM\\nEST Sign off status: Completed Blue Ridge Associates in Neurology 2955\\nMARKET ST STEB CHRISTIANSBURG A24073-6575 Tel: 540-381-6211 Fax: 540-645-6623 Progress Note: Jill B Cramer, MD 01/25/2023\\nNote generated by eClinicalWorks EMR/PM Software (www.CCliricalWorks. com)', 'Not-Taking Diclofenac Sodium2.5% Cream 1 application AS Examination NEEDED Externally Four times a day General Examination: Medication List reviewed and reconciled with the Normal strength x4 patient DTRs 0 x4\\nMildly tremulous FMM, FTN, HTS.\\nPast Medical History COFD.\\nPhysical Examination Hypertension Records Reviewed Neuropathy.\\n01/18/2023 Lupus Clinic Note Impressions and Plan Surgical History - Impression: Donna Maria Durham has systematic lupus and has not needed ACL repair 2018 anything beyong hydroxycholoriquine and significant amount of time.\\nMother Dementia, heart disease ,hypertension Assessments Social History 1.\\nChronic inflammatory demyelinating polyneuritis - G61.81 Never smoker 2.\\nAutonomic neuropathy in diseases classified elsewhere - G99.0 very rare alcohol use, special celebrations 3 Systemic lunus ervthematosus with other oman involvement inspecified su type To: Subject: Re case# 92907723']\\nlist of diagnoses: 0. immune (or idiopathic) thrombocytopenic purpura (itp)  1. bullous skin/blistering disease 2. chronic lymphocytic leukemia (cll)  3. congenital agammaglobulinemia  4. common variable immunodeficiency (cvid)  5. wiskott-aldrich syndrome  6. x-linked agammaglobulinemia  7. severe combined immunodeficiency  8. non-familial hypogammaglobulinemia  9. bone marrow transplant  10. solid organ transplant  11. chronic inflammatory demyelinating polyneuropathy (cidp)  12. multifocal motor neuropathy  13. myasthenia gravis, severe refractory  14. eaton-lambert myasthenic syndrome  15. guillain-barre syndrome  16. severe refractory polymyositis  17. stiff-person syndrome  18. stiff-person syndrome  19. pemphigus vulgaris  20. pemphigus vulgaris  21. bullous pemphigoid  22. mucous membrane pemphigoid , cicatricial pemphigoid, benign mucous membrane pemphigoid  23. epidermolysis bullosa acquisita \\nplease analyze the provided medical context and extract the patient's primary diagnosis. considering variations in spelling and abbreviations, match it to the closer entry in the diagnosis list. if not matched, return other.\" [/INST]\n",
      " Based on the provided medical context, the patient's primary diagnosis is Chronic Inflammatory Demyelinating Polyneuropathy (CIDP).\n"
     ]
    }
   ],
   "source": [
    "inputs = tokenizer(prompt, return_tensors=\"pt\").to(\"cuda\")\n",
    "outputs = model.generate(**inputs, generation_config=generation_config)\n",
    "print(tokenizer.decode(outputs[0], skip_special_tokens=True))\n"
   ]
  },
  {
   "cell_type": "code",
   "execution_count": 11,
   "id": "6a0b98a6-b159-4068-8413-15d9f7997c12",
   "metadata": {},
   "outputs": [
    {
     "name": "stdout",
     "output_type": "stream",
     "text": [
      "[INST]<<SYS>>\n",
      " You are a helpful, respectful and honest assistant. Always answer as helpfully as possible using the \n",
      "context text provided.\n",
      "Extract the answer from the context and do not generate answer by your own.\n",
      "\n",
      "<</SYS>>\n",
      "\n",
      "given the following medical context and a list of diagnoses list, \\nmedical context:['STONE ST, CHRISTIANSBURG VA-24073-5021 Home: 540-230-5881 Guarantor: Durham, Donna Insurance: Anthem Healthkeepers Medicare Advantage PCP: Charles Judy Appointment Facility: Blue Ridge Associates in Neurology 01/25/2023 Progress Notes: Jill B Cramer, MD Current Medications Reason for Appointment Taking 1.\\nNeeds in ASAP - f/u radiculopathy - lumbar region?, muscle spasms?\\nVitarrin C Tylenol History of Present Illness Biderberry Constitutional: Levothyroxine Sodium25 MOG\\nTablet 1 tablet in the Ms Durham is a 55 yo female who presents today for restablishing with Dr. morning on an empty stomach Orally Once a day traZODone HC 100 MG Tablet 1 tablet at beditime Cramer chronic inflammatory demyelinating polyneuritis.\\nOrally Once a day She was last seen by Dr. Quarles on 2/23/22 for her lumbar radiculopathy and Symbicort 160-4.5 MDG/ACT\\nAerosol 2 puffs was provided TPI.\\nInhalation', 'FROM: Fax Blue Ridge Associates in Neurology TO: 8445128997 PAGE: 003 OF 003 Patient Name: Durham, Donna, DOB: 11/09/1967 Account No: 15025 no drug use M32.19 Allergies Bee Sting CIDP due to lupus.\\nHas been on Mg since 2014.\\nShe has increased symptoms of her Dilaudid neuropathy just before she is due for her next monthly infusion.\\nEMG confirmed CIDP CeleBREX done by previous neurologist.\\nTolerates treatments well.\\nMg medically necessary for Hydrocodone her autoimmune mediated neuropathy.\\nWill continue two days every 4 weeks to oxyCODONEHO maintain her function.\\nSulfa Antibiotics Hospitalization/Major Diagnostic Procedure Denies Past Hospitalization Review of Systems aROS generic: Joramusous 14 Systemreview completed see attached ROS sheet for details Reviewed Electronically signed by JILL CRAMER, MD on 01/25/2023 at 11:46 AM\\nEST Sign off status: Completed Blue Ridge Associates in Neurology 2955\\nMARKET ST STEB CHRISTIANSBURG A24073-6575 Tel: 540-381-6211 Fax: 540-645-6623 Progress Note: Jill B Cramer, MD 01/25/2023\\nNote generated by eClinicalWorks EMR/PM Software (www.CCliricalWorks. com)', 'Not-Taking Diclofenac Sodium2.5% Cream 1 application AS Examination NEEDED Externally Four times a day General Examination: Medication List reviewed and reconciled with the Normal strength x4 patient DTRs 0 x4\\nMildly tremulous FMM, FTN, HTS.\\nPast Medical History COFD.\\nPhysical Examination Hypertension Records Reviewed Neuropathy.\\n01/18/2023 Lupus Clinic Note Impressions and Plan Surgical History - Impression: Donna Maria Durham has systematic lupus and has not needed ACL repair 2018 anything beyong hydroxycholoriquine and significant amount of time.\\nMother Dementia, heart disease ,hypertension Assessments Social History 1.\\nChronic inflammatory demyelinating polyneuritis - G61.81 Never smoker 2.\\nAutonomic neuropathy in diseases classified elsewhere - G99.0 very rare alcohol use, special celebrations 3 Systemic lunus ervthematosus with other oman involvement inspecified su type To: Subject: Re case# 92907723']\\nlist of diagnoses: 0. immune (or idiopathic) thrombocytopenic purpura (itp)  1. bullous skin/blistering disease 2. chronic lymphocytic leukemia (cll)  3. congenital agammaglobulinemia  4. common variable immunodeficiency (cvid)  5. wiskott-aldrich syndrome  6. x-linked agammaglobulinemia  7. severe combined immunodeficiency  8. non-familial hypogammaglobulinemia  9. bone marrow transplant  10. solid organ transplant  11. chronic inflammatory demyelinating polyneuropathy (cidp)  12. multifocal motor neuropathy  13. myasthenia gravis, severe refractory  14. eaton-lambert myasthenic syndrome  15. guillain-barre syndrome  16. severe refractory polymyositis  17. stiff-person syndrome  18. stiff-person syndrome  19. pemphigus vulgaris  20. pemphigus vulgaris  21. bullous pemphigoid  22. mucous membrane pemphigoid , cicatricial pemphigoid, benign mucous membrane pemphigoid  23. epidermolysis bullosa acquisita \\nplease analyze the provided medical context and extract the patient's primary diagnosis. considering variations in spelling and abbreviations, match it to the closer entry in the diagnosis list. if not matched, return other.\" [/INST]\n",
      " Based on the provided medical context, the patient's primary diagnosis is Chronic Inflammatory Demyelinating Polyneuropathy (CIDP).\n",
      "CPU times: user 2.2 s, sys: 214 ms, total: 2.42 s\n",
      "Wall time: 2.42 s\n"
     ]
    }
   ],
   "source": [
    "%%time\n",
    "outputs = model.generate(**inputs, generation_config=generation_config)\n",
    "print(tokenizer.decode(outputs[0], skip_special_tokens=True))"
   ]
  },
  {
   "cell_type": "code",
   "execution_count": null,
   "id": "f2946f55-651d-4566-8902-025f61c8ba0b",
   "metadata": {},
   "outputs": [],
   "source": []
  },
  {
   "cell_type": "code",
   "execution_count": null,
   "id": "26dc90d3-fb8d-44e1-a877-16864ee7f3ba",
   "metadata": {},
   "outputs": [],
   "source": []
  },
  {
   "cell_type": "markdown",
   "id": "48436a24-5995-43e3-9d50-9b7fbdee50eb",
   "metadata": {},
   "source": [
    "# DPO Model Inference"
   ]
  },
  {
   "cell_type": "code",
   "execution_count": 8,
   "id": "d703ff4b-2086-4752-aaa3-f7e29d9a460e",
   "metadata": {},
   "outputs": [],
   "source": [
    "model_path = '/home/jovyan/sai/biomedgpt_dpo7b'\n",
    "\n",
    "tokenizer = AutoTokenizer.from_pretrained(model_path)"
   ]
  },
  {
   "cell_type": "code",
   "execution_count": 9,
   "id": "bf5159d5-fc88-47f9-9829-fd2c5bb60bdf",
   "metadata": {},
   "outputs": [
    {
     "data": {
      "application/vnd.jupyter.widget-view+json": {
       "model_id": "836d1a052ca24d87840d4bd989c51de7",
       "version_major": 2,
       "version_minor": 0
      },
      "text/plain": [
       "Loading checkpoint shards:   0%|          | 0/2 [00:00<?, ?it/s]"
      ]
     },
     "metadata": {},
     "output_type": "display_data"
    }
   ],
   "source": [
    "model = AutoModelForCausalLM.from_pretrained(\"/home/jovyan/sai/biomedgpt_dpo7b/final_merged_checkpoint\", return_dict=True, torch_dtype=torch.float16,device_map=\"cuda\")\n",
    "#model = PeftModel.from_pretrained(model, \"/home/jovyan/sai/biomedgpt_dpo7b/final_checkpoint\")\n",
    "#model.eval()"
   ]
  },
  {
   "cell_type": "code",
   "execution_count": 12,
   "id": "952e1ebf-1160-4b1a-b85f-5a296b25f0f2",
   "metadata": {},
   "outputs": [],
   "source": [
    "generation_config = GenerationConfig(\n",
    "    do_sample=True,\n",
    "    top_k=1,\n",
    "    temperature=0.2,\n",
    "    max_new_tokens=256,\n",
    "    pad_token_id=tokenizer.eos_token_id\n",
    ")"
   ]
  },
  {
   "cell_type": "code",
   "execution_count": 13,
   "id": "eef64c3b-41f2-4150-a20e-e797cef3eaf4",
   "metadata": {},
   "outputs": [
    {
     "data": {
      "text/plain": [
       "LlamaForCausalLM(\n",
       "  (model): LlamaModel(\n",
       "    (embed_tokens): Embedding(32000, 4096, padding_idx=0)\n",
       "    (layers): ModuleList(\n",
       "      (0-31): 32 x LlamaDecoderLayer(\n",
       "        (self_attn): LlamaAttention(\n",
       "          (q_proj): Linear(in_features=4096, out_features=4096, bias=False)\n",
       "          (k_proj): Linear(in_features=4096, out_features=4096, bias=False)\n",
       "          (v_proj): Linear(in_features=4096, out_features=4096, bias=False)\n",
       "          (o_proj): Linear(in_features=4096, out_features=4096, bias=False)\n",
       "          (rotary_emb): LlamaRotaryEmbedding()\n",
       "        )\n",
       "        (mlp): LlamaMLP(\n",
       "          (gate_proj): Linear(in_features=4096, out_features=11008, bias=False)\n",
       "          (up_proj): Linear(in_features=4096, out_features=11008, bias=False)\n",
       "          (down_proj): Linear(in_features=11008, out_features=4096, bias=False)\n",
       "          (act_fn): SiLUActivation()\n",
       "        )\n",
       "        (input_layernorm): LlamaRMSNorm()\n",
       "        (post_attention_layernorm): LlamaRMSNorm()\n",
       "      )\n",
       "    )\n",
       "    (norm): LlamaRMSNorm()\n",
       "  )\n",
       "  (lm_head): Linear(in_features=4096, out_features=32000, bias=False)\n",
       ")"
      ]
     },
     "execution_count": 13,
     "metadata": {},
     "output_type": "execute_result"
    }
   ],
   "source": [
    "model"
   ]
  },
  {
   "cell_type": "code",
   "execution_count": 14,
   "id": "82569425-bf3d-4ec7-9617-45118af7230f",
   "metadata": {},
   "outputs": [
    {
     "name": "stdout",
     "output_type": "stream",
     "text": [
      "[INST]<<SYS>>\n",
      " You are a helpful, respectful and honest assistant. Always answer as helpfully as possible using the \n",
      "context text provided.\n",
      "Extract the answer from the context and do not generate answer by your own.\n",
      "\n",
      "<</SYS>>\n",
      "\n",
      "given the following medical context and a list of diagnoses list, \\nmedical context:['STONE ST, CHRISTIANSBURG VA-24073-5021 Home: 540-230-5881 Guarantor: Durham, Donna Insurance: Anthem Healthkeepers Medicare Advantage PCP: Charles Judy Appointment Facility: Blue Ridge Associates in Neurology 01/25/2023 Progress Notes: Jill B Cramer, MD Current Medications Reason for Appointment Taking 1.\\nNeeds in ASAP - f/u radiculopathy - lumbar region?, muscle spasms?\\nVitarrin C Tylenol History of Present Illness Biderberry Constitutional: Levothyroxine Sodium25 MOG\\nTablet 1 tablet in the Ms Durham is a 55 yo female who presents today for restablishing with Dr. morning on an empty stomach Orally Once a day traZODone HC 100 MG Tablet 1 tablet at beditime Cramer chronic inflammatory demyelinating polyneuritis.\\nOrally Once a day She was last seen by Dr. Quarles on 2/23/22 for her lumbar radiculopathy and Symbicort 160-4.5 MDG/ACT\\nAerosol 2 puffs was provided TPI.\\nInhalation', 'FROM: Fax Blue Ridge Associates in Neurology TO: 8445128997 PAGE: 003 OF 003 Patient Name: Durham, Donna, DOB: 11/09/1967 Account No: 15025 no drug use M32.19 Allergies Bee Sting CIDP due to lupus.\\nHas been on Mg since 2014.\\nShe has increased symptoms of her Dilaudid neuropathy just before she is due for her next monthly infusion.\\nEMG confirmed CIDP CeleBREX done by previous neurologist.\\nTolerates treatments well.\\nMg medically necessary for Hydrocodone her autoimmune mediated neuropathy.\\nWill continue two days every 4 weeks to oxyCODONEHO maintain her function.\\nSulfa Antibiotics Hospitalization/Major Diagnostic Procedure Denies Past Hospitalization Review of Systems aROS generic: Joramusous 14 Systemreview completed see attached ROS sheet for details Reviewed Electronically signed by JILL CRAMER, MD on 01/25/2023 at 11:46 AM\\nEST Sign off status: Completed Blue Ridge Associates in Neurology 2955\\nMARKET ST STEB CHRISTIANSBURG A24073-6575 Tel: 540-381-6211 Fax: 540-645-6623 Progress Note: Jill B Cramer, MD 01/25/2023\\nNote generated by eClinicalWorks EMR/PM Software (www.CCliricalWorks. com)', 'Not-Taking Diclofenac Sodium2.5% Cream 1 application AS Examination NEEDED Externally Four times a day General Examination: Medication List reviewed and reconciled with the Normal strength x4 patient DTRs 0 x4\\nMildly tremulous FMM, FTN, HTS.\\nPast Medical History COFD.\\nPhysical Examination Hypertension Records Reviewed Neuropathy.\\n01/18/2023 Lupus Clinic Note Impressions and Plan Surgical History - Impression: Donna Maria Durham has systematic lupus and has not needed ACL repair 2018 anything beyong hydroxycholoriquine and significant amount of time.\\nMother Dementia, heart disease ,hypertension Assessments Social History 1.\\nChronic inflammatory demyelinating polyneuritis - G61.81 Never smoker 2.\\nAutonomic neuropathy in diseases classified elsewhere - G99.0 very rare alcohol use, special celebrations 3 Systemic lunus ervthematosus with other oman involvement inspecified su type To: Subject: Re case# 92907723']\\nlist of diagnoses: 0. immune (or idiopathic) thrombocytopenic purpura (itp)  1. bullous skin/blistering disease 2. chronic lymphocytic leukemia (cll)  3. congenital agammaglobulinemia  4. common variable immunodeficiency (cvid)  5. wiskott-aldrich syndrome  6. x-linked agammaglobulinemia  7. severe combined immunodeficiency  8. non-familial hypogammaglobulinemia  9. bone marrow transplant  10. solid organ transplant  11. chronic inflammatory demyelinating polyneuropathy (cidp)  12. multifocal motor neuropathy  13. myasthenia gravis, severe refractory  14. eaton-lambert myasthenic syndrome  15. guillain-barre syndrome  16. severe refractory polymyositis  17. stiff-person syndrome  18. stiff-person syndrome  19. pemphigus vulgaris  20. pemphigus vulgaris  21. bullous pemphigoid  22. mucous membrane pemphigoid , cicatricial pemphigoid, benign mucous membrane pemphigoid  23. epidermolysis bullosa acquisita \\nplease analyze the provided medical context and extract the patient's primary diagnosis. considering variations in spelling and abbreviations, match it to the closer entry in the diagnosis list. if not matched, return other.\" [/INST]  The primary diagnosis of the patient is chronic inflammatory demyelinating polyneuropathy (CIDP).\n"
     ]
    }
   ],
   "source": [
    "inputs = tokenizer(prompt, return_tensors=\"pt\").to(\"cuda\")\n",
    "outputs = model.generate(**inputs, generation_config=generation_config)\n",
    "print(tokenizer.decode(outputs[0], skip_special_tokens=True))\n"
   ]
  },
  {
   "cell_type": "code",
   "execution_count": 15,
   "id": "11d68285-dc2d-42ef-ab2b-a4244b9c8448",
   "metadata": {},
   "outputs": [
    {
     "name": "stdout",
     "output_type": "stream",
     "text": [
      "[INST]<<SYS>>\n",
      " You are a helpful, respectful and honest assistant. Always answer as helpfully as possible using the \n",
      "context text provided.\n",
      "Extract the answer from the context and do not generate answer by your own.\n",
      "\n",
      "<</SYS>>\n",
      "\n",
      "given the following medical context and a list of diagnoses list, \\nmedical context:['STONE ST, CHRISTIANSBURG VA-24073-5021 Home: 540-230-5881 Guarantor: Durham, Donna Insurance: Anthem Healthkeepers Medicare Advantage PCP: Charles Judy Appointment Facility: Blue Ridge Associates in Neurology 01/25/2023 Progress Notes: Jill B Cramer, MD Current Medications Reason for Appointment Taking 1.\\nNeeds in ASAP - f/u radiculopathy - lumbar region?, muscle spasms?\\nVitarrin C Tylenol History of Present Illness Biderberry Constitutional: Levothyroxine Sodium25 MOG\\nTablet 1 tablet in the Ms Durham is a 55 yo female who presents today for restablishing with Dr. morning on an empty stomach Orally Once a day traZODone HC 100 MG Tablet 1 tablet at beditime Cramer chronic inflammatory demyelinating polyneuritis.\\nOrally Once a day She was last seen by Dr. Quarles on 2/23/22 for her lumbar radiculopathy and Symbicort 160-4.5 MDG/ACT\\nAerosol 2 puffs was provided TPI.\\nInhalation', 'FROM: Fax Blue Ridge Associates in Neurology TO: 8445128997 PAGE: 003 OF 003 Patient Name: Durham, Donna, DOB: 11/09/1967 Account No: 15025 no drug use M32.19 Allergies Bee Sting CIDP due to lupus.\\nHas been on Mg since 2014.\\nShe has increased symptoms of her Dilaudid neuropathy just before she is due for her next monthly infusion.\\nEMG confirmed CIDP CeleBREX done by previous neurologist.\\nTolerates treatments well.\\nMg medically necessary for Hydrocodone her autoimmune mediated neuropathy.\\nWill continue two days every 4 weeks to oxyCODONEHO maintain her function.\\nSulfa Antibiotics Hospitalization/Major Diagnostic Procedure Denies Past Hospitalization Review of Systems aROS generic: Joramusous 14 Systemreview completed see attached ROS sheet for details Reviewed Electronically signed by JILL CRAMER, MD on 01/25/2023 at 11:46 AM\\nEST Sign off status: Completed Blue Ridge Associates in Neurology 2955\\nMARKET ST STEB CHRISTIANSBURG A24073-6575 Tel: 540-381-6211 Fax: 540-645-6623 Progress Note: Jill B Cramer, MD 01/25/2023\\nNote generated by eClinicalWorks EMR/PM Software (www.CCliricalWorks. com)', 'Not-Taking Diclofenac Sodium2.5% Cream 1 application AS Examination NEEDED Externally Four times a day General Examination: Medication List reviewed and reconciled with the Normal strength x4 patient DTRs 0 x4\\nMildly tremulous FMM, FTN, HTS.\\nPast Medical History COFD.\\nPhysical Examination Hypertension Records Reviewed Neuropathy.\\n01/18/2023 Lupus Clinic Note Impressions and Plan Surgical History - Impression: Donna Maria Durham has systematic lupus and has not needed ACL repair 2018 anything beyong hydroxycholoriquine and significant amount of time.\\nMother Dementia, heart disease ,hypertension Assessments Social History 1.\\nChronic inflammatory demyelinating polyneuritis - G61.81 Never smoker 2.\\nAutonomic neuropathy in diseases classified elsewhere - G99.0 very rare alcohol use, special celebrations 3 Systemic lunus ervthematosus with other oman involvement inspecified su type To: Subject: Re case# 92907723']\\nlist of diagnoses: 0. immune (or idiopathic) thrombocytopenic purpura (itp)  1. bullous skin/blistering disease 2. chronic lymphocytic leukemia (cll)  3. congenital agammaglobulinemia  4. common variable immunodeficiency (cvid)  5. wiskott-aldrich syndrome  6. x-linked agammaglobulinemia  7. severe combined immunodeficiency  8. non-familial hypogammaglobulinemia  9. bone marrow transplant  10. solid organ transplant  11. chronic inflammatory demyelinating polyneuropathy (cidp)  12. multifocal motor neuropathy  13. myasthenia gravis, severe refractory  14. eaton-lambert myasthenic syndrome  15. guillain-barre syndrome  16. severe refractory polymyositis  17. stiff-person syndrome  18. stiff-person syndrome  19. pemphigus vulgaris  20. pemphigus vulgaris  21. bullous pemphigoid  22. mucous membrane pemphigoid , cicatricial pemphigoid, benign mucous membrane pemphigoid  23. epidermolysis bullosa acquisita \\nplease analyze the provided medical context and extract the patient's primary diagnosis. considering variations in spelling and abbreviations, match it to the closer entry in the diagnosis list. if not matched, return other.\" [/INST]  The primary diagnosis of the patient is chronic inflammatory demyelinating polyneuropathy (CIDP).\n",
      "CPU times: user 1.64 s, sys: 93.9 ms, total: 1.74 s\n",
      "Wall time: 1.73 s\n"
     ]
    }
   ],
   "source": [
    "%%time\n",
    "outputs = model.generate(**inputs, generation_config=generation_config)\n",
    "print(tokenizer.decode(outputs[0], skip_special_tokens=True))"
   ]
  },
  {
   "cell_type": "code",
   "execution_count": null,
   "id": "6fa3fa5f-145c-4a68-9a26-834ac2070725",
   "metadata": {},
   "outputs": [],
   "source": []
  }
 ],
 "metadata": {
  "kernelspec": {
   "display_name": "Python 3 (ipykernel)",
   "language": "python",
   "name": "python3"
  },
  "language_info": {
   "codemirror_mode": {
    "name": "ipython",
    "version": 3
   },
   "file_extension": ".py",
   "mimetype": "text/x-python",
   "name": "python",
   "nbconvert_exporter": "python",
   "pygments_lexer": "ipython3",
   "version": "3.9.12"
  }
 },
 "nbformat": 4,
 "nbformat_minor": 5
}
