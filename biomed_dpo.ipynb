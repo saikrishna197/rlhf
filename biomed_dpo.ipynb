{
 "cells": [
  {
   "cell_type": "code",
   "execution_count": 1,
   "id": "d07d1a89-78b3-49f3-a6d7-6b6c9a36f830",
   "metadata": {},
   "outputs": [],
   "source": [
    "import os\n",
    "from dataclasses import dataclass, field\n",
    "from typing import Optional\n",
    "\n",
    "import torch\n",
    "from datasets import load_dataset\n",
    "from peft import AutoPeftModelForCausalLM, LoraConfig\n",
    "from tqdm import tqdm\n",
    "from transformers import AutoModelForCausalLM, AutoTokenizer, BitsAndBytesConfig, HfArgumentParser, TrainingArguments\n",
    "\n",
    "from trl import SFTTrainer\n",
    "from trl.trainer import ConstantLengthDataset"
   ]
  },
  {
   "cell_type": "code",
   "execution_count": 3,
   "id": "8ab573a1-cdb9-4153-870f-d798fca93dc7",
   "metadata": {},
   "outputs": [
    {
     "data": {
      "application/vnd.jupyter.widget-view+json": {
       "model_id": "14d9127efb894277a6384c48c0ac3f98",
       "version_major": 2,
       "version_minor": 0
      },
      "text/plain": [
       "VBox(children=(HTML(value='<center> <img\\nsrc=https://huggingface.co/front/assets/huggingface_logo-noborder.sv…"
      ]
     },
     "metadata": {},
     "output_type": "display_data"
    }
   ],
   "source": [
    "from huggingface_hub import notebook_login\n",
    "\n",
    "notebook_login()  # same as before"
   ]
  },
  {
   "cell_type": "code",
   "execution_count": 2,
   "id": "b2e9e2e3-8313-4cbc-9713-0d4cc5d1fc85",
   "metadata": {},
   "outputs": [],
   "source": [
    "# 0. imports\n",
    "import os\n",
    "from dataclasses import dataclass, field\n",
    "from typing import Dict, Optional\n",
    "\n",
    "import torch\n",
    "from datasets import Dataset, load_dataset\n",
    "from peft import AutoPeftModelForCausalLM, LoraConfig\n",
    "from transformers import AutoTokenizer, HfArgumentParser, TrainingArguments\n",
    "\n",
    "from trl import DPOTrainer"
   ]
  },
  {
   "cell_type": "code",
   "execution_count": null,
   "id": "fe58e8e3-263b-4f8d-be4a-2bb1ac418c4a",
   "metadata": {},
   "outputs": [],
   "source": []
  },
  {
   "cell_type": "code",
   "execution_count": 5,
   "id": "4bdfc136-769a-4ed9-9ae5-80eb1547e25e",
   "metadata": {},
   "outputs": [],
   "source": [
    "from datasets import load_dataset\n",
    "\n",
    "#dataset = load_dataset(\"Dahoas/full-hh-rlhf\",split='test')\n",
    "dataset = load_dataset('json',data_files='mungeo_dp.jsonl',split = \"train\",use_auth_token=True)"
   ]
  },
  {
   "cell_type": "code",
   "execution_count": 6,
   "id": "ae7abde9-3176-457b-95c0-944faabaa5b3",
   "metadata": {},
   "outputs": [
    {
     "data": {
      "text/plain": [
       "Dataset({\n",
       "    features: ['prompt', 'response', 'chosen', 'rejected'],\n",
       "    num_rows: 231\n",
       "})"
      ]
     },
     "execution_count": 6,
     "metadata": {},
     "output_type": "execute_result"
    }
   ],
   "source": [
    "dataset"
   ]
  },
  {
   "cell_type": "code",
   "execution_count": 7,
   "id": "e7900757-d4f1-476f-8c60-2fce336eab47",
   "metadata": {},
   "outputs": [],
   "source": [
    "import pandas as pd\n",
    "Dataset = pd.read_csv('data_dpo.csv')"
   ]
  },
  {
   "cell_type": "code",
   "execution_count": 8,
   "id": "f9224c20-d931-4a61-b7bc-376d9e2a3f49",
   "metadata": {},
   "outputs": [
    {
     "data": {
      "text/html": [
       "<div>\n",
       "<style scoped>\n",
       "    .dataframe tbody tr th:only-of-type {\n",
       "        vertical-align: middle;\n",
       "    }\n",
       "\n",
       "    .dataframe tbody tr th {\n",
       "        vertical-align: top;\n",
       "    }\n",
       "\n",
       "    .dataframe thead th {\n",
       "        text-align: right;\n",
       "    }\n",
       "</style>\n",
       "<table border=\"1\" class=\"dataframe\">\n",
       "  <thead>\n",
       "    <tr style=\"text-align: right;\">\n",
       "      <th></th>\n",
       "      <th>prompt</th>\n",
       "      <th>chosen</th>\n",
       "      <th>rejected</th>\n",
       "    </tr>\n",
       "  </thead>\n",
       "  <tbody>\n",
       "    <tr>\n",
       "      <th>0</th>\n",
       "      <td>[INST]&lt;&lt;SYS&gt;&gt;\\n You are a helpful, respectful ...</td>\n",
       "      <td>The patient's diagnosis is chronic inflammator...</td>\n",
       "      <td>Primary Diagnosis: Chronic inflammatory demyel...</td>\n",
       "    </tr>\n",
       "    <tr>\n",
       "      <th>1</th>\n",
       "      <td>[INST]&lt;&lt;SYS&gt;&gt;\\n You are a helpful, respectful ...</td>\n",
       "      <td>Based on the given information, it is mentione...</td>\n",
       "      <td>The patient's diagnosis of CIDP has been confi...</td>\n",
       "    </tr>\n",
       "    <tr>\n",
       "      <th>2</th>\n",
       "      <td>[INST]&lt;&lt;SYS&gt;&gt;\\n You are a helpful, respectful ...</td>\n",
       "      <td>Based on the given information, it is stated t...</td>\n",
       "      <td>The patient's diagnosis of CIDP has been confi...</td>\n",
       "    </tr>\n",
       "    <tr>\n",
       "      <th>3</th>\n",
       "      <td>[INST]&lt;&lt;SYS&gt;&gt;\\n You are a helpful, respectful ...</td>\n",
       "      <td>Based on the given medical context, there is n...</td>\n",
       "      <td>The patient has not tried conventional therapy...</td>\n",
       "    </tr>\n",
       "    <tr>\n",
       "      <th>4</th>\n",
       "      <td>[INST]&lt;&lt;SYS&gt;&gt;\\n You are a helpful, respectful ...</td>\n",
       "      <td>Based on the provided context, there is no inf...</td>\n",
       "      <td>The patient's current weight in kilograms (kg)...</td>\n",
       "    </tr>\n",
       "    <tr>\n",
       "      <th>...</th>\n",
       "      <td>...</td>\n",
       "      <td>...</td>\n",
       "      <td>...</td>\n",
       "    </tr>\n",
       "    <tr>\n",
       "      <th>226</th>\n",
       "      <td>[INST]&lt;&lt;SYS&gt;&gt;\\n You are a helpful, respectful ...</td>\n",
       "      <td>Based on the provided medical context, there i...</td>\n",
       "      <td>Given the provided medical context and the age...</td>\n",
       "    </tr>\n",
       "    <tr>\n",
       "      <th>227</th>\n",
       "      <td>[INST]&lt;&lt;SYS&gt;&gt;\\n You are a helpful, respectful ...</td>\n",
       "      <td>Based on the provided context, it is indicated...</td>\n",
       "      <td>The patient's medical status does not require ...</td>\n",
       "    </tr>\n",
       "    <tr>\n",
       "      <th>228</th>\n",
       "      <td>[INST]&lt;&lt;SYS&gt;&gt;\\n You are a helpful, respectful ...</td>\n",
       "      <td>Based on the provided context, it is not possi...</td>\n",
       "      <td>The patient is at risk for fluid overload and ...</td>\n",
       "    </tr>\n",
       "    <tr>\n",
       "      <th>229</th>\n",
       "      <td>[INST]&lt;&lt;SYS&gt;&gt;\\n You are a helpful, respectful ...</td>\n",
       "      <td>Based on the provided medical context, there i...</td>\n",
       "      <td>The context provided does not contain any sign...</td>\n",
       "    </tr>\n",
       "    <tr>\n",
       "      <th>230</th>\n",
       "      <td>[INST]&lt;&lt;SYS&gt;&gt;\\n You are a helpful, respectful ...</td>\n",
       "      <td>No, the given context does not provide enough ...</td>\n",
       "      <td>Given the medical context provided, the patien...</td>\n",
       "    </tr>\n",
       "  </tbody>\n",
       "</table>\n",
       "<p>231 rows × 3 columns</p>\n",
       "</div>"
      ],
      "text/plain": [
       "                                                prompt  \\\n",
       "0    [INST]<<SYS>>\\n You are a helpful, respectful ...   \n",
       "1    [INST]<<SYS>>\\n You are a helpful, respectful ...   \n",
       "2    [INST]<<SYS>>\\n You are a helpful, respectful ...   \n",
       "3    [INST]<<SYS>>\\n You are a helpful, respectful ...   \n",
       "4    [INST]<<SYS>>\\n You are a helpful, respectful ...   \n",
       "..                                                 ...   \n",
       "226  [INST]<<SYS>>\\n You are a helpful, respectful ...   \n",
       "227  [INST]<<SYS>>\\n You are a helpful, respectful ...   \n",
       "228  [INST]<<SYS>>\\n You are a helpful, respectful ...   \n",
       "229  [INST]<<SYS>>\\n You are a helpful, respectful ...   \n",
       "230  [INST]<<SYS>>\\n You are a helpful, respectful ...   \n",
       "\n",
       "                                                chosen  \\\n",
       "0    The patient's diagnosis is chronic inflammator...   \n",
       "1    Based on the given information, it is mentione...   \n",
       "2    Based on the given information, it is stated t...   \n",
       "3    Based on the given medical context, there is n...   \n",
       "4    Based on the provided context, there is no inf...   \n",
       "..                                                 ...   \n",
       "226  Based on the provided medical context, there i...   \n",
       "227  Based on the provided context, it is indicated...   \n",
       "228  Based on the provided context, it is not possi...   \n",
       "229  Based on the provided medical context, there i...   \n",
       "230  No, the given context does not provide enough ...   \n",
       "\n",
       "                                              rejected  \n",
       "0    Primary Diagnosis: Chronic inflammatory demyel...  \n",
       "1    The patient's diagnosis of CIDP has been confi...  \n",
       "2    The patient's diagnosis of CIDP has been confi...  \n",
       "3    The patient has not tried conventional therapy...  \n",
       "4    The patient's current weight in kilograms (kg)...  \n",
       "..                                                 ...  \n",
       "226  Given the provided medical context and the age...  \n",
       "227  The patient's medical status does not require ...  \n",
       "228  The patient is at risk for fluid overload and ...  \n",
       "229  The context provided does not contain any sign...  \n",
       "230  Given the medical context provided, the patien...  \n",
       "\n",
       "[231 rows x 3 columns]"
      ]
     },
     "execution_count": 8,
     "metadata": {},
     "output_type": "execute_result"
    }
   ],
   "source": [
    "Dataset"
   ]
  },
  {
   "cell_type": "code",
   "execution_count": 9,
   "id": "7ce1efc4-1d47-4964-b373-b8e48cb8d550",
   "metadata": {},
   "outputs": [],
   "source": [
    "Dataset.to_json('dp0.json')"
   ]
  },
  {
   "cell_type": "code",
   "execution_count": 10,
   "id": "6a22e658-0ee8-43a4-a7e9-3d7fa0a0b0f0",
   "metadata": {},
   "outputs": [],
   "source": [
    "df = pd.read_json('dp0.json')\n",
    "df.to_json(\"dpo.jsonl\", orient=\"records\", lines=True)"
   ]
  },
  {
   "cell_type": "code",
   "execution_count": 4,
   "id": "a5ed5893-8cfd-443d-8750-1ebc7690418b",
   "metadata": {},
   "outputs": [
    {
     "name": "stderr",
     "output_type": "stream",
     "text": [
      "/home/jovyan/.conda/envs/ppo/lib/python3.9/site-packages/datasets/load.py:2089: FutureWarning: 'use_auth_token' was deprecated in favor of 'token' in version 2.14.0 and will be removed in 3.0.0.\n",
      "You can remove this warning by passing 'token=True' instead.\n",
      "  warnings.warn(\n"
     ]
    }
   ],
   "source": [
    "from datasets import load_dataset\n",
    "\n",
    "#dataset = load_dataset(\"Dahoas/full-hh-rlhf\",split='test')\n",
    "dataset = load_dataset('json',data_files='dpo.jsonl',split = \"train\",use_auth_token=True)"
   ]
  },
  {
   "cell_type": "code",
   "execution_count": 5,
   "id": "5aafe93c-c14b-44d3-bb71-482613bd4701",
   "metadata": {},
   "outputs": [
    {
     "data": {
      "text/plain": [
       "Dataset({\n",
       "    features: ['prompt', 'chosen', 'rejected'],\n",
       "    num_rows: 231\n",
       "})"
      ]
     },
     "execution_count": 5,
     "metadata": {},
     "output_type": "execute_result"
    }
   ],
   "source": [
    "dataset"
   ]
  },
  {
   "cell_type": "code",
   "execution_count": 6,
   "id": "f1ac6260-c7c7-44fb-8071-31f1bf82ad4c",
   "metadata": {},
   "outputs": [],
   "source": [
    "original_columns = dataset.column_names\n",
    "\n",
    "def return_prompt_and_responses(samples):\n",
    "    return {\n",
    "        \"prompt\": samples['prompt'],\n",
    "        \"chosen\": samples[\"chosen\"],\n",
    "        \"rejected\": samples[\"rejected\"],\n",
    "    }"
   ]
  },
  {
   "cell_type": "code",
   "execution_count": 7,
   "id": "32e93624-3942-46da-b62f-7f14cfe2b9e8",
   "metadata": {},
   "outputs": [],
   "source": [
    "train_data = dataset.map(return_prompt_and_responses,batched=True,remove_columns=original_columns)\n"
   ]
  },
  {
   "cell_type": "code",
   "execution_count": 8,
   "id": "f7002875-0d32-420b-a968-d88f9dbf7b9b",
   "metadata": {},
   "outputs": [
    {
     "data": {
      "text/plain": [
       "Dataset({\n",
       "    features: ['prompt', 'chosen', 'rejected'],\n",
       "    num_rows: 231\n",
       "})"
      ]
     },
     "execution_count": 8,
     "metadata": {},
     "output_type": "execute_result"
    }
   ],
   "source": [
    "train_data\n"
   ]
  },
  {
   "cell_type": "code",
   "execution_count": 9,
   "id": "a0000c52-1233-4da5-a9ef-37651bd82245",
   "metadata": {},
   "outputs": [
    {
     "data": {
      "application/vnd.jupyter.widget-view+json": {
       "model_id": "b7337824df2742a292df2a5340cc2d4e",
       "version_major": 2,
       "version_minor": 0
      },
      "text/plain": [
       "Loading checkpoint shards:   0%|          | 0/3 [00:00<?, ?it/s]"
      ]
     },
     "metadata": {},
     "output_type": "display_data"
    },
    {
     "name": "stderr",
     "output_type": "stream",
     "text": [
      "/home/jovyan/.conda/envs/ppo/lib/python3.9/site-packages/transformers/generation/configuration_utils.py:362: UserWarning: `do_sample` is set to `False`. However, `temperature` is set to `0.9` -- this flag is only used in sample-based generation modes. You should set `do_sample=True` or unset `temperature`. This was detected when initializing the generation config instance, which means the corresponding file may hold incorrect parameterization and should be fixed.\n",
      "  warnings.warn(\n",
      "/home/jovyan/.conda/envs/ppo/lib/python3.9/site-packages/transformers/generation/configuration_utils.py:367: UserWarning: `do_sample` is set to `False`. However, `top_p` is set to `0.6` -- this flag is only used in sample-based generation modes. You should set `do_sample=True` or unset `top_p`. This was detected when initializing the generation config instance, which means the corresponding file may hold incorrect parameterization and should be fixed.\n",
      "  warnings.warn(\n",
      "CUDA extension not installed.\n",
      "CUDA extension not installed.\n"
     ]
    }
   ],
   "source": [
    "# 1. load a pretrained model\n",
    "model = AutoPeftModelForCausalLM.from_pretrained(\"/home/jovyan/sai/sft_biomedgpt7b\",low_cpu_mem_usage=True,torch_dtype=torch.float16,load_in_4bit=True)\n",
    "model.config.use_cache = False"
   ]
  },
  {
   "cell_type": "code",
   "execution_count": 10,
   "id": "ffa90d4a-6e8a-4a89-a214-badfc2886b3f",
   "metadata": {},
   "outputs": [
    {
     "data": {
      "application/vnd.jupyter.widget-view+json": {
       "model_id": "45a4d4243e494c908ac78de3e702842f",
       "version_major": 2,
       "version_minor": 0
      },
      "text/plain": [
       "Loading checkpoint shards:   0%|          | 0/3 [00:00<?, ?it/s]"
      ]
     },
     "metadata": {},
     "output_type": "display_data"
    }
   ],
   "source": [
    "# Load the reference model \n",
    "model_ref = AutoPeftModelForCausalLM.from_pretrained(\"/home/jovyan/sai/sft_biomedgpt7b\",low_cpu_mem_usage=True,torch_dtype=torch.float16,load_in_4bit=True)\n"
   ]
  },
  {
   "cell_type": "code",
   "execution_count": 11,
   "id": "d7f96a1b-62d4-43e7-9e4b-f6b57e26e348",
   "metadata": {},
   "outputs": [
    {
     "data": {
      "text/plain": [
       "PeftModelForCausalLM(\n",
       "  (base_model): LoraModel(\n",
       "    (model): LlamaForCausalLM(\n",
       "      (model): LlamaModel(\n",
       "        (embed_tokens): Embedding(32000, 4096, padding_idx=0)\n",
       "        (layers): ModuleList(\n",
       "          (0-31): 32 x LlamaDecoderLayer(\n",
       "            (self_attn): LlamaAttention(\n",
       "              (q_proj): Linear4bit(\n",
       "                in_features=4096, out_features=4096, bias=False\n",
       "                (lora_dropout): ModuleDict(\n",
       "                  (default): Dropout(p=0.05, inplace=False)\n",
       "                )\n",
       "                (lora_A): ModuleDict(\n",
       "                  (default): Linear(in_features=4096, out_features=8, bias=False)\n",
       "                )\n",
       "                (lora_B): ModuleDict(\n",
       "                  (default): Linear(in_features=8, out_features=4096, bias=False)\n",
       "                )\n",
       "                (lora_embedding_A): ParameterDict()\n",
       "                (lora_embedding_B): ParameterDict()\n",
       "              )\n",
       "              (k_proj): Linear4bit(\n",
       "                in_features=4096, out_features=4096, bias=False\n",
       "                (lora_dropout): ModuleDict(\n",
       "                  (default): Dropout(p=0.05, inplace=False)\n",
       "                )\n",
       "                (lora_A): ModuleDict(\n",
       "                  (default): Linear(in_features=4096, out_features=8, bias=False)\n",
       "                )\n",
       "                (lora_B): ModuleDict(\n",
       "                  (default): Linear(in_features=8, out_features=4096, bias=False)\n",
       "                )\n",
       "                (lora_embedding_A): ParameterDict()\n",
       "                (lora_embedding_B): ParameterDict()\n",
       "              )\n",
       "              (v_proj): Linear4bit(\n",
       "                in_features=4096, out_features=4096, bias=False\n",
       "                (lora_dropout): ModuleDict(\n",
       "                  (default): Dropout(p=0.05, inplace=False)\n",
       "                )\n",
       "                (lora_A): ModuleDict(\n",
       "                  (default): Linear(in_features=4096, out_features=8, bias=False)\n",
       "                )\n",
       "                (lora_B): ModuleDict(\n",
       "                  (default): Linear(in_features=8, out_features=4096, bias=False)\n",
       "                )\n",
       "                (lora_embedding_A): ParameterDict()\n",
       "                (lora_embedding_B): ParameterDict()\n",
       "              )\n",
       "              (o_proj): Linear4bit(\n",
       "                in_features=4096, out_features=4096, bias=False\n",
       "                (lora_dropout): ModuleDict(\n",
       "                  (default): Dropout(p=0.05, inplace=False)\n",
       "                )\n",
       "                (lora_A): ModuleDict(\n",
       "                  (default): Linear(in_features=4096, out_features=8, bias=False)\n",
       "                )\n",
       "                (lora_B): ModuleDict(\n",
       "                  (default): Linear(in_features=8, out_features=4096, bias=False)\n",
       "                )\n",
       "                (lora_embedding_A): ParameterDict()\n",
       "                (lora_embedding_B): ParameterDict()\n",
       "              )\n",
       "              (rotary_emb): LlamaRotaryEmbedding()\n",
       "            )\n",
       "            (mlp): LlamaMLP(\n",
       "              (gate_proj): Linear4bit(in_features=4096, out_features=11008, bias=False)\n",
       "              (up_proj): Linear4bit(in_features=4096, out_features=11008, bias=False)\n",
       "              (down_proj): Linear4bit(in_features=11008, out_features=4096, bias=False)\n",
       "              (act_fn): SiLUActivation()\n",
       "            )\n",
       "            (input_layernorm): LlamaRMSNorm()\n",
       "            (post_attention_layernorm): LlamaRMSNorm()\n",
       "          )\n",
       "        )\n",
       "        (norm): LlamaRMSNorm()\n",
       "      )\n",
       "      (lm_head): Linear(in_features=4096, out_features=32000, bias=False)\n",
       "    )\n",
       "  )\n",
       ")"
      ]
     },
     "execution_count": 11,
     "metadata": {},
     "output_type": "execute_result"
    }
   ],
   "source": [
    "model_ref"
   ]
  },
  {
   "cell_type": "code",
   "execution_count": 12,
   "id": "1805b03a-79d6-4664-90c7-c891043e7934",
   "metadata": {},
   "outputs": [],
   "source": [
    "tokenizer = AutoTokenizer.from_pretrained(\"/home/jovyan/sai/sft_biomedgpt7b\")\n",
    "tokenizer.pad_token = tokenizer.eos_token"
   ]
  },
  {
   "cell_type": "code",
   "execution_count": 13,
   "id": "c1546b32-2316-4206-9bf8-8a76bc2b5524",
   "metadata": {},
   "outputs": [],
   "source": [
    "train_df = train_data.to_pandas()\n"
   ]
  },
  {
   "cell_type": "code",
   "execution_count": 14,
   "id": "761813e4-6afb-4614-8e66-6490225b4919",
   "metadata": {},
   "outputs": [
    {
     "data": {
      "text/html": [
       "<div>\n",
       "<style scoped>\n",
       "    .dataframe tbody tr th:only-of-type {\n",
       "        vertical-align: middle;\n",
       "    }\n",
       "\n",
       "    .dataframe tbody tr th {\n",
       "        vertical-align: top;\n",
       "    }\n",
       "\n",
       "    .dataframe thead th {\n",
       "        text-align: right;\n",
       "    }\n",
       "</style>\n",
       "<table border=\"1\" class=\"dataframe\">\n",
       "  <thead>\n",
       "    <tr style=\"text-align: right;\">\n",
       "      <th></th>\n",
       "      <th>prompt</th>\n",
       "      <th>chosen</th>\n",
       "      <th>rejected</th>\n",
       "    </tr>\n",
       "  </thead>\n",
       "  <tbody>\n",
       "    <tr>\n",
       "      <th>0</th>\n",
       "      <td>[INST]&lt;&lt;SYS&gt;&gt;\\n You are a helpful, respectful ...</td>\n",
       "      <td>The patient's diagnosis is chronic inflammator...</td>\n",
       "      <td>Primary Diagnosis: Chronic inflammatory demyel...</td>\n",
       "    </tr>\n",
       "    <tr>\n",
       "      <th>1</th>\n",
       "      <td>[INST]&lt;&lt;SYS&gt;&gt;\\n You are a helpful, respectful ...</td>\n",
       "      <td>Based on the given information, it is mentione...</td>\n",
       "      <td>The patient's diagnosis of CIDP has been confi...</td>\n",
       "    </tr>\n",
       "    <tr>\n",
       "      <th>2</th>\n",
       "      <td>[INST]&lt;&lt;SYS&gt;&gt;\\n You are a helpful, respectful ...</td>\n",
       "      <td>Based on the given information, it is stated t...</td>\n",
       "      <td>The patient's diagnosis of CIDP has been confi...</td>\n",
       "    </tr>\n",
       "    <tr>\n",
       "      <th>3</th>\n",
       "      <td>[INST]&lt;&lt;SYS&gt;&gt;\\n You are a helpful, respectful ...</td>\n",
       "      <td>Based on the given medical context, there is n...</td>\n",
       "      <td>The patient has not tried conventional therapy...</td>\n",
       "    </tr>\n",
       "    <tr>\n",
       "      <th>4</th>\n",
       "      <td>[INST]&lt;&lt;SYS&gt;&gt;\\n You are a helpful, respectful ...</td>\n",
       "      <td>Based on the provided context, there is no inf...</td>\n",
       "      <td>The patient's current weight in kilograms (kg)...</td>\n",
       "    </tr>\n",
       "  </tbody>\n",
       "</table>\n",
       "</div>"
      ],
      "text/plain": [
       "                                              prompt  \\\n",
       "0  [INST]<<SYS>>\\n You are a helpful, respectful ...   \n",
       "1  [INST]<<SYS>>\\n You are a helpful, respectful ...   \n",
       "2  [INST]<<SYS>>\\n You are a helpful, respectful ...   \n",
       "3  [INST]<<SYS>>\\n You are a helpful, respectful ...   \n",
       "4  [INST]<<SYS>>\\n You are a helpful, respectful ...   \n",
       "\n",
       "                                              chosen  \\\n",
       "0  The patient's diagnosis is chronic inflammator...   \n",
       "1  Based on the given information, it is mentione...   \n",
       "2  Based on the given information, it is stated t...   \n",
       "3  Based on the given medical context, there is n...   \n",
       "4  Based on the provided context, there is no inf...   \n",
       "\n",
       "                                            rejected  \n",
       "0  Primary Diagnosis: Chronic inflammatory demyel...  \n",
       "1  The patient's diagnosis of CIDP has been confi...  \n",
       "2  The patient's diagnosis of CIDP has been confi...  \n",
       "3  The patient has not tried conventional therapy...  \n",
       "4  The patient's current weight in kilograms (kg)...  "
      ]
     },
     "execution_count": 14,
     "metadata": {},
     "output_type": "execute_result"
    }
   ],
   "source": [
    "train_df.head()\n"
   ]
  },
  {
   "cell_type": "code",
   "execution_count": 15,
   "id": "1f69c622-2fb3-4118-b599-8a3d1538df31",
   "metadata": {},
   "outputs": [],
   "source": [
    "val_df = train_df.sample(50)\n"
   ]
  },
  {
   "cell_type": "code",
   "execution_count": 16,
   "id": "fd37d069-2dd9-4cba-b9c6-9d6e95ec17db",
   "metadata": {},
   "outputs": [],
   "source": [
    "train_data = dataset.from_pandas(train_df)\n",
    "val_data = dataset.from_pandas(val_df)\n"
   ]
  },
  {
   "cell_type": "code",
   "execution_count": 17,
   "id": "c19a5e7b-ac80-4f89-855a-a503bee63eca",
   "metadata": {},
   "outputs": [],
   "source": [
    "peft_config = LoraConfig(\n",
    "        r=4,\n",
    "        lora_alpha=6,\n",
    "        lora_dropout=0.1,\n",
    "        target_modules=[\"q_proj\", \"k_proj\",\"v_proj\",\"o_proj\"],\n",
    "        bias=\"none\",\n",
    "        task_type=\"CAUSAL_LM\",\n",
    "    )\n",
    "peft_config.inference_mode = False"
   ]
  },
  {
   "cell_type": "code",
   "execution_count": 19,
   "id": "89ec863f-6840-4fca-872f-714153dfe8e1",
   "metadata": {},
   "outputs": [],
   "source": [
    "from peft import AutoPeftModelForCausalLM, LoraConfig, get_peft_model, prepare_model_for_kbit_training\n",
    "\n",
    "\n",
    "model = prepare_model_for_kbit_training(model)\n",
    "model.config.use_cache=False\n",
    "model.gradient_checkpointing_enable()\n",
    "model.config.pretraining_tp=1\n",
    "model = get_peft_model(model, peft_config)"
   ]
  },
  {
   "cell_type": "code",
   "execution_count": 20,
   "id": "bebeec07-14ac-4211-88c8-b7f3d19cfaa1",
   "metadata": {},
   "outputs": [],
   "source": [
    "model_ref = prepare_model_for_kbit_training(model_ref)\n",
    "model_ref.config.use_cache=False\n",
    "model_ref.gradient_checkpointing_enable()\n",
    "model_ref.config.pretraining_tp=1\n",
    "model_ref = get_peft_model(model_ref, peft_config)"
   ]
  },
  {
   "cell_type": "code",
   "execution_count": 21,
   "id": "e1d81f61-6828-4b75-8679-532057ce0773",
   "metadata": {},
   "outputs": [],
   "source": [
    "training_args = TrainingArguments(\n",
    "        per_device_train_batch_size=1,\n",
    "        max_steps=250,\n",
    "        remove_unused_columns=False,\n",
    "        gradient_accumulation_steps=1,\n",
    "        learning_rate=2e-4,\n",
    "        evaluation_strategy=\"steps\",\n",
    "        logging_first_step=True,\n",
    "        logging_steps=10,\n",
    "        output_dir=\"biomedgpt_dpo7b\",\n",
    "        optim=\"paged_adamw_32bit\",\n",
    "        warmup_steps=2,\n",
    "        fp16=True,\n",
    "        #push_to_hub=True\n",
    "    )"
   ]
  },
  {
   "cell_type": "code",
   "execution_count": 22,
   "id": "2e167620-b97e-450e-839e-fa7f23598b23",
   "metadata": {},
   "outputs": [],
   "source": [
    "dpo_trainer = DPOTrainer(\n",
    "        model,\n",
    "        model_ref,\n",
    "        args=training_args,\n",
    "        beta=0.1,\n",
    "        train_dataset=train_data,\n",
    "        eval_dataset=val_data,\n",
    "        tokenizer=tokenizer,\n",
    "        max_length=512,\n",
    "        #max_target_length=256,\n",
    "        max_prompt_length=256\n",
    "    )"
   ]
  },
  {
   "cell_type": "code",
   "execution_count": 23,
   "id": "922737e6-e598-4551-bdb7-8f91923aab56",
   "metadata": {},
   "outputs": [
    {
     "name": "stderr",
     "output_type": "stream",
     "text": [
      "/home/jovyan/.conda/envs/ppo/lib/python3.9/site-packages/bitsandbytes/nn/modules.py:224: UserWarning: Input type into Linear4bit is torch.float16, but bnb_4bit_compute_type=torch.float32 (default). This will lead to slow inference or training speed.\n",
      "  warnings.warn(f'Input type into Linear4bit is torch.float16, but bnb_4bit_compute_type=torch.float32 (default). This will lead to slow inference or training speed.')\n",
      "Could not estimate the number of tokens of the input, floating-point operations will not be computed\n"
     ]
    },
    {
     "data": {
      "text/html": [
       "\n",
       "    <div>\n",
       "      \n",
       "      <progress value='250' max='250' style='width:300px; height:20px; vertical-align: middle;'></progress>\n",
       "      [250/250 49:22, Epoch 2/3]\n",
       "    </div>\n",
       "    <table border=\"1\" class=\"dataframe\">\n",
       "  <thead>\n",
       " <tr style=\"text-align: left;\">\n",
       "      <th>Step</th>\n",
       "      <th>Training Loss</th>\n",
       "      <th>Validation Loss</th>\n",
       "      <th>Rewards/chosen</th>\n",
       "      <th>Rewards/rejected</th>\n",
       "      <th>Rewards/accuracies</th>\n",
       "      <th>Rewards/margins</th>\n",
       "      <th>Logps/rejected</th>\n",
       "      <th>Logps/chosen</th>\n",
       "      <th>Logits/rejected</th>\n",
       "      <th>Logits/chosen</th>\n",
       "    </tr>\n",
       "  </thead>\n",
       "  <tbody>\n",
       "    <tr>\n",
       "      <td>10</td>\n",
       "      <td>0.593700</td>\n",
       "      <td>0.456292</td>\n",
       "      <td>0.622710</td>\n",
       "      <td>0.068058</td>\n",
       "      <td>0.937500</td>\n",
       "      <td>0.554653</td>\n",
       "      <td>-49.000015</td>\n",
       "      <td>-64.745850</td>\n",
       "      <td>-1.909305</td>\n",
       "      <td>-1.926689</td>\n",
       "    </tr>\n",
       "    <tr>\n",
       "      <td>20</td>\n",
       "      <td>0.283300</td>\n",
       "      <td>0.252731</td>\n",
       "      <td>1.301233</td>\n",
       "      <td>-0.811575</td>\n",
       "      <td>0.937500</td>\n",
       "      <td>2.112808</td>\n",
       "      <td>-57.796345</td>\n",
       "      <td>-57.960617</td>\n",
       "      <td>-1.910291</td>\n",
       "      <td>-1.933762</td>\n",
       "    </tr>\n",
       "    <tr>\n",
       "      <td>30</td>\n",
       "      <td>0.091300</td>\n",
       "      <td>0.295203</td>\n",
       "      <td>0.558034</td>\n",
       "      <td>-3.664357</td>\n",
       "      <td>0.953125</td>\n",
       "      <td>4.222391</td>\n",
       "      <td>-86.324158</td>\n",
       "      <td>-65.392609</td>\n",
       "      <td>-1.858414</td>\n",
       "      <td>-1.893823</td>\n",
       "    </tr>\n",
       "    <tr>\n",
       "      <td>40</td>\n",
       "      <td>0.632400</td>\n",
       "      <td>0.212230</td>\n",
       "      <td>0.860482</td>\n",
       "      <td>-4.389436</td>\n",
       "      <td>0.937500</td>\n",
       "      <td>5.249918</td>\n",
       "      <td>-93.574951</td>\n",
       "      <td>-62.368130</td>\n",
       "      <td>-1.833933</td>\n",
       "      <td>-1.892643</td>\n",
       "    </tr>\n",
       "    <tr>\n",
       "      <td>50</td>\n",
       "      <td>0.225800</td>\n",
       "      <td>0.273557</td>\n",
       "      <td>0.197908</td>\n",
       "      <td>-7.588692</td>\n",
       "      <td>0.953125</td>\n",
       "      <td>7.786599</td>\n",
       "      <td>-125.567505</td>\n",
       "      <td>-68.993866</td>\n",
       "      <td>-1.826356</td>\n",
       "      <td>-1.892543</td>\n",
       "    </tr>\n",
       "    <tr>\n",
       "      <td>60</td>\n",
       "      <td>0.224600</td>\n",
       "      <td>0.489242</td>\n",
       "      <td>-3.986630</td>\n",
       "      <td>-19.241064</td>\n",
       "      <td>0.937500</td>\n",
       "      <td>15.254434</td>\n",
       "      <td>-242.091232</td>\n",
       "      <td>-110.839241</td>\n",
       "      <td>-1.707354</td>\n",
       "      <td>-1.770775</td>\n",
       "    </tr>\n",
       "    <tr>\n",
       "      <td>70</td>\n",
       "      <td>0.256400</td>\n",
       "      <td>0.496837</td>\n",
       "      <td>-3.818516</td>\n",
       "      <td>-24.964119</td>\n",
       "      <td>0.953125</td>\n",
       "      <td>21.145603</td>\n",
       "      <td>-299.321777</td>\n",
       "      <td>-109.158112</td>\n",
       "      <td>-1.678956</td>\n",
       "      <td>-1.795144</td>\n",
       "    </tr>\n",
       "    <tr>\n",
       "      <td>80</td>\n",
       "      <td>0.048700</td>\n",
       "      <td>1.413266</td>\n",
       "      <td>-8.814586</td>\n",
       "      <td>-44.175907</td>\n",
       "      <td>0.937500</td>\n",
       "      <td>35.361320</td>\n",
       "      <td>-491.439667</td>\n",
       "      <td>-159.118805</td>\n",
       "      <td>-1.651946</td>\n",
       "      <td>-1.803871</td>\n",
       "    </tr>\n",
       "    <tr>\n",
       "      <td>90</td>\n",
       "      <td>0.000000</td>\n",
       "      <td>3.738147</td>\n",
       "      <td>-20.301727</td>\n",
       "      <td>-66.685677</td>\n",
       "      <td>0.875000</td>\n",
       "      <td>46.383949</td>\n",
       "      <td>-716.537354</td>\n",
       "      <td>-273.990234</td>\n",
       "      <td>-1.558827</td>\n",
       "      <td>-1.692922</td>\n",
       "    </tr>\n",
       "    <tr>\n",
       "      <td>100</td>\n",
       "      <td>1.434800</td>\n",
       "      <td>1.087242</td>\n",
       "      <td>-6.913808</td>\n",
       "      <td>-40.785824</td>\n",
       "      <td>0.953125</td>\n",
       "      <td>33.872017</td>\n",
       "      <td>-457.538818</td>\n",
       "      <td>-140.111023</td>\n",
       "      <td>-1.765298</td>\n",
       "      <td>-1.897762</td>\n",
       "    </tr>\n",
       "    <tr>\n",
       "      <td>110</td>\n",
       "      <td>1.498000</td>\n",
       "      <td>0.471549</td>\n",
       "      <td>-1.885940</td>\n",
       "      <td>-18.835094</td>\n",
       "      <td>0.968750</td>\n",
       "      <td>16.949154</td>\n",
       "      <td>-238.031540</td>\n",
       "      <td>-89.832352</td>\n",
       "      <td>-1.831546</td>\n",
       "      <td>-1.942860</td>\n",
       "    </tr>\n",
       "    <tr>\n",
       "      <td>120</td>\n",
       "      <td>0.000800</td>\n",
       "      <td>0.565509</td>\n",
       "      <td>-3.066257</td>\n",
       "      <td>-23.668428</td>\n",
       "      <td>0.968750</td>\n",
       "      <td>20.602173</td>\n",
       "      <td>-286.364899</td>\n",
       "      <td>-101.635521</td>\n",
       "      <td>-1.828658</td>\n",
       "      <td>-1.937420</td>\n",
       "    </tr>\n",
       "    <tr>\n",
       "      <td>130</td>\n",
       "      <td>0.000000</td>\n",
       "      <td>1.118642</td>\n",
       "      <td>-10.047465</td>\n",
       "      <td>-47.221844</td>\n",
       "      <td>0.937500</td>\n",
       "      <td>37.174377</td>\n",
       "      <td>-521.899048</td>\n",
       "      <td>-171.447601</td>\n",
       "      <td>-1.705964</td>\n",
       "      <td>-1.863240</td>\n",
       "    </tr>\n",
       "    <tr>\n",
       "      <td>140</td>\n",
       "      <td>1.688600</td>\n",
       "      <td>1.288434</td>\n",
       "      <td>-11.124758</td>\n",
       "      <td>-51.815659</td>\n",
       "      <td>0.937500</td>\n",
       "      <td>40.690899</td>\n",
       "      <td>-567.837158</td>\n",
       "      <td>-182.220535</td>\n",
       "      <td>-1.727043</td>\n",
       "      <td>-1.878146</td>\n",
       "    </tr>\n",
       "    <tr>\n",
       "      <td>150</td>\n",
       "      <td>1.220800</td>\n",
       "      <td>0.869141</td>\n",
       "      <td>-8.859884</td>\n",
       "      <td>-44.825821</td>\n",
       "      <td>0.968750</td>\n",
       "      <td>35.965935</td>\n",
       "      <td>-497.938782</td>\n",
       "      <td>-159.571793</td>\n",
       "      <td>-1.769309</td>\n",
       "      <td>-1.905948</td>\n",
       "    </tr>\n",
       "    <tr>\n",
       "      <td>160</td>\n",
       "      <td>1.275600</td>\n",
       "      <td>0.460181</td>\n",
       "      <td>-5.391969</td>\n",
       "      <td>-31.159256</td>\n",
       "      <td>0.968750</td>\n",
       "      <td>25.767288</td>\n",
       "      <td>-361.273132</td>\n",
       "      <td>-124.892639</td>\n",
       "      <td>-1.800204</td>\n",
       "      <td>-1.929781</td>\n",
       "    </tr>\n",
       "    <tr>\n",
       "      <td>170</td>\n",
       "      <td>0.000000</td>\n",
       "      <td>0.347253</td>\n",
       "      <td>-4.266545</td>\n",
       "      <td>-28.569252</td>\n",
       "      <td>0.968750</td>\n",
       "      <td>24.302706</td>\n",
       "      <td>-335.373108</td>\n",
       "      <td>-113.638397</td>\n",
       "      <td>-1.795012</td>\n",
       "      <td>-1.928519</td>\n",
       "    </tr>\n",
       "    <tr>\n",
       "      <td>180</td>\n",
       "      <td>0.570200</td>\n",
       "      <td>0.438464</td>\n",
       "      <td>-6.007792</td>\n",
       "      <td>-35.349213</td>\n",
       "      <td>0.968750</td>\n",
       "      <td>29.341423</td>\n",
       "      <td>-403.172699</td>\n",
       "      <td>-131.050858</td>\n",
       "      <td>-1.772045</td>\n",
       "      <td>-1.923931</td>\n",
       "    </tr>\n",
       "    <tr>\n",
       "      <td>190</td>\n",
       "      <td>0.005800</td>\n",
       "      <td>0.437683</td>\n",
       "      <td>-7.197049</td>\n",
       "      <td>-39.137806</td>\n",
       "      <td>0.968750</td>\n",
       "      <td>31.940758</td>\n",
       "      <td>-441.058655</td>\n",
       "      <td>-142.943436</td>\n",
       "      <td>-1.721441</td>\n",
       "      <td>-1.896199</td>\n",
       "    </tr>\n",
       "    <tr>\n",
       "      <td>200</td>\n",
       "      <td>2.819500</td>\n",
       "      <td>0.357432</td>\n",
       "      <td>-6.082389</td>\n",
       "      <td>-34.081108</td>\n",
       "      <td>0.968750</td>\n",
       "      <td>27.998720</td>\n",
       "      <td>-390.491638</td>\n",
       "      <td>-131.796844</td>\n",
       "      <td>-1.694997</td>\n",
       "      <td>-1.882269</td>\n",
       "    </tr>\n",
       "    <tr>\n",
       "      <td>210</td>\n",
       "      <td>0.002400</td>\n",
       "      <td>0.318674</td>\n",
       "      <td>-4.713574</td>\n",
       "      <td>-29.599251</td>\n",
       "      <td>0.968750</td>\n",
       "      <td>24.885677</td>\n",
       "      <td>-345.673126</td>\n",
       "      <td>-118.108688</td>\n",
       "      <td>-1.715712</td>\n",
       "      <td>-1.893950</td>\n",
       "    </tr>\n",
       "    <tr>\n",
       "      <td>220</td>\n",
       "      <td>0.342200</td>\n",
       "      <td>0.431199</td>\n",
       "      <td>-4.827646</td>\n",
       "      <td>-31.993725</td>\n",
       "      <td>0.968750</td>\n",
       "      <td>27.166080</td>\n",
       "      <td>-369.617798</td>\n",
       "      <td>-119.249405</td>\n",
       "      <td>-1.755602</td>\n",
       "      <td>-1.914601</td>\n",
       "    </tr>\n",
       "    <tr>\n",
       "      <td>230</td>\n",
       "      <td>0.079600</td>\n",
       "      <td>0.446544</td>\n",
       "      <td>-4.577808</td>\n",
       "      <td>-31.810345</td>\n",
       "      <td>0.968750</td>\n",
       "      <td>27.232536</td>\n",
       "      <td>-367.784058</td>\n",
       "      <td>-116.751022</td>\n",
       "      <td>-1.771531</td>\n",
       "      <td>-1.921057</td>\n",
       "    </tr>\n",
       "    <tr>\n",
       "      <td>240</td>\n",
       "      <td>0.000000</td>\n",
       "      <td>0.455665</td>\n",
       "      <td>-4.735474</td>\n",
       "      <td>-32.693569</td>\n",
       "      <td>0.968750</td>\n",
       "      <td>27.958094</td>\n",
       "      <td>-376.616272</td>\n",
       "      <td>-118.327682</td>\n",
       "      <td>-1.770716</td>\n",
       "      <td>-1.919022</td>\n",
       "    </tr>\n",
       "    <tr>\n",
       "      <td>250</td>\n",
       "      <td>0.000000</td>\n",
       "      <td>0.456166</td>\n",
       "      <td>-4.815339</td>\n",
       "      <td>-33.034664</td>\n",
       "      <td>0.968750</td>\n",
       "      <td>28.219326</td>\n",
       "      <td>-380.027222</td>\n",
       "      <td>-119.126335</td>\n",
       "      <td>-1.768817</td>\n",
       "      <td>-1.917346</td>\n",
       "    </tr>\n",
       "  </tbody>\n",
       "</table><p>"
      ],
      "text/plain": [
       "<IPython.core.display.HTML object>"
      ]
     },
     "metadata": {},
     "output_type": "display_data"
    },
    {
     "name": "stderr",
     "output_type": "stream",
     "text": [
      "Token indices sequence length is longer than the specified maximum sequence length for this model (2275 > 2048). Running this sequence through the model will result in indexing errors\n"
     ]
    },
    {
     "data": {
      "text/plain": [
       "TrainOutput(global_step=250, training_loss=0.5321710271349732, metrics={'train_runtime': 2970.4836, 'train_samples_per_second': 0.168, 'train_steps_per_second': 0.084, 'total_flos': 0.0, 'train_loss': 0.5321710271349732, 'epoch': 2.16})"
      ]
     },
     "execution_count": 23,
     "metadata": {},
     "output_type": "execute_result"
    }
   ],
   "source": [
    "dpo_trainer.train()\n"
   ]
  },
  {
   "cell_type": "code",
   "execution_count": 25,
   "id": "aff53720-eaba-4857-b706-38ab2109977a",
   "metadata": {},
   "outputs": [],
   "source": [
    "dpo_trainer.save_model(\"biomedgpt_dpo7b\")\n",
    "output_dir = os.path.join(\"biomedgpt_dpo7b\", \"final_checkpoint\")\n",
    "dpo_trainer.model.save_pretrained(output_dir)"
   ]
  },
  {
   "cell_type": "code",
   "execution_count": null,
   "id": "8fa2276f-900f-4fdf-802e-8bf744e2981e",
   "metadata": {},
   "outputs": [],
   "source": []
  }
 ],
 "metadata": {
  "kernelspec": {
   "display_name": "Python 3 (ipykernel)",
   "language": "python",
   "name": "python3"
  },
  "language_info": {
   "codemirror_mode": {
    "name": "ipython",
    "version": 3
   },
   "file_extension": ".py",
   "mimetype": "text/x-python",
   "name": "python",
   "nbconvert_exporter": "python",
   "pygments_lexer": "ipython3",
   "version": "3.9.12"
  }
 },
 "nbformat": 4,
 "nbformat_minor": 5
}
